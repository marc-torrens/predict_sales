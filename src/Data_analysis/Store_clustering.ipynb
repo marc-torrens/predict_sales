{
 "cells": [
  {
   "cell_type": "markdown",
   "metadata": {},
   "source": [
    "In this notebook we try to observe if the given clusters and types of the stores have relation with the distribution of sales among the families of the stores"
   ]
  }
 ],
 "metadata": {
  "language_info": {
   "name": "python"
  }
 },
 "nbformat": 4,
 "nbformat_minor": 2
}
